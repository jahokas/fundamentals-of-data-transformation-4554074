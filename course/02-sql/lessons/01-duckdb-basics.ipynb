{
 "cells": [
  {
   "cell_type": "markdown",
   "metadata": {},
   "source": [
    "The SQL component to the is course will use DuckDB— an _in-memory_ analytics engine that let's you write full-featured SQL without the need for a stand-alone database.\n",
    "\n",
    "If you nerd out over that stuff, like me, you can read more [here](https://open.substack.com/pub/casewhen/p/data-explained-what-is-duckdb?r=rnul&utm_campaign=post&utm_medium=web). \n",
    "\n",
    "For now, you can just assume that the following code will load DuckDB + the necessary datasets, so you can sit back and relax:"
   ]
  },
  {
   "cell_type": "code",
   "execution_count": 3,
   "metadata": {},
   "outputs": [
    {
     "name": "stdout",
     "output_type": "stream",
     "text": [
      "Collecting duckdb\n",
      "  Downloading duckdb-1.4.0-cp312-cp312-manylinux_2_27_x86_64.manylinux_2_28_x86_64.whl.metadata (14 kB)\n",
      "Downloading duckdb-1.4.0-cp312-cp312-manylinux_2_27_x86_64.manylinux_2_28_x86_64.whl (20.4 MB)\n",
      "\u001b[2K   \u001b[90m━━━━━━━━━━━━━━━━━━━━━━━━━━━━━━━━━━━━━━━━\u001b[0m \u001b[32m20.4/20.4 MB\u001b[0m \u001b[31m29.2 MB/s\u001b[0m eta \u001b[36m0:00:00\u001b[0m00:01\u001b[0m00:01\u001b[0m\n",
      "\u001b[?25hInstalling collected packages: duckdb\n",
      "Successfully installed duckdb-1.4.0\n",
      "\n",
      "\u001b[1m[\u001b[0m\u001b[34;49mnotice\u001b[0m\u001b[1;39;49m]\u001b[0m\u001b[39;49m A new release of pip is available: \u001b[0m\u001b[31;49m25.1.1\u001b[0m\u001b[39;49m -> \u001b[0m\u001b[32;49m25.2\u001b[0m\n",
      "\u001b[1m[\u001b[0m\u001b[34;49mnotice\u001b[0m\u001b[1;39;49m]\u001b[0m\u001b[39;49m To update, run: \u001b[0m\u001b[32;49mpython -m pip install --upgrade pip\u001b[0m\n",
      "Note: you may need to restart the kernel to use updated packages.\n"
     ]
    }
   ],
   "source": [
    "%pip install duckdb"
   ]
  },
  {
   "cell_type": "code",
   "execution_count": 1,
   "metadata": {},
   "outputs": [
    {
     "data": {
      "text/html": [
       "<span style=\"None\">The &#x27;toml&#x27; package isn&#x27;t installed. To load settings from pyproject.toml or ~/.jupysql/config, install with: pip install toml</span>"
      ],
      "text/plain": [
       "The 'toml' package isn't installed. To load settings from pyproject.toml or ~/.jupysql/config, install with: pip install toml"
      ]
     },
     "metadata": {},
     "output_type": "display_data"
    },
    {
     "data": {
      "text/html": [
       "<span style=\"None\">Running query in &#x27;duckdb&#x27;</span>"
      ],
      "text/plain": [
       "Running query in 'duckdb'"
      ]
     },
     "metadata": {},
     "output_type": "display_data"
    },
    {
     "data": {
      "text/html": [
       "<table>\n",
       "    <thead>\n",
       "        <tr>\n",
       "            <th>Count</th>\n",
       "        </tr>\n",
       "    </thead>\n",
       "    <tbody>\n",
       "        <tr>\n",
       "            <td>224</td>\n",
       "        </tr>\n",
       "    </tbody>\n",
       "</table>"
      ],
      "text/plain": [
       "+-------+\n",
       "| Count |\n",
       "+-------+\n",
       "|  224  |\n",
       "+-------+"
      ]
     },
     "execution_count": 1,
     "metadata": {},
     "output_type": "execute_result"
    }
   ],
   "source": [
    "import duckdb\n",
    "\n",
    "# Load SQL extension\n",
    "%load_ext sql\n",
    "\n",
    "# Initialize 🦆 DuckDB connection\n",
    "conn = duckdb.connect()\n",
    "\n",
    "# Import database\n",
    "%sql conn --alias duckdb\n",
    "%sql IMPORT DATABASE '../../data/nps';"
   ]
  },
  {
   "cell_type": "markdown",
   "metadata": {},
   "source": [
    "Now, we can focus on writing SQL! DuckDB is like any other variant— you can `SELECT` columns `FROM` some data source. (note we need `%%sql` at the beginning of the cell to make it work with our setup)"
   ]
  },
  {
   "cell_type": "code",
   "execution_count": 2,
   "metadata": {},
   "outputs": [
    {
     "data": {
      "text/html": [
       "<span style=\"None\">Running query in &#x27;duckdb&#x27;</span>"
      ],
      "text/plain": [
       "Running query in 'duckdb'"
      ]
     },
     "metadata": {},
     "output_type": "display_data"
    },
    {
     "data": {
      "text/html": [
       "<table>\n",
       "    <thead>\n",
       "        <tr>\n",
       "            <th>relevanceScore</th>\n",
       "            <th>designation</th>\n",
       "            <th>weatherInfo</th>\n",
       "            <th>addresses</th>\n",
       "            <th>operatingHours</th>\n",
       "            <th>entrancePasses</th>\n",
       "            <th>name</th>\n",
       "            <th>description</th>\n",
       "            <th>directionsUrl</th>\n",
       "            <th>fees</th>\n",
       "            <th>topics</th>\n",
       "            <th>states</th>\n",
       "            <th>entranceFees</th>\n",
       "            <th>contacts</th>\n",
       "            <th>activities</th>\n",
       "            <th>url</th>\n",
       "            <th>longitude</th>\n",
       "            <th>id</th>\n",
       "            <th>images</th>\n",
       "            <th>directionsInfo</th>\n",
       "            <th>fullName</th>\n",
       "            <th>parkCode</th>\n",
       "            <th>latLong</th>\n",
       "            <th>latitude</th>\n",
       "        </tr>\n",
       "    </thead>\n",
       "    <tbody>\n",
       "        <tr>\n",
       "            <td>1</td>\n",
       "            <td>National Memorial</td>\n",
       "            <td><a href=http://forecast.weather.gov/MapClick.php?CityName=New+York&state=NY&site=OKX&lat=40.7198&lon=-73.993#.Vqj8OvkrJlZ>http://forecast.weather.gov/MapClick.php?CityName=New+York&state=NY&site=OKX&lat=40.7198&lon=-73.993#.Vqj8OvkrJlZ</a></td>\n",
       "            <td>[{'type': 'Physical', 'line2': '', 'line1': '15 Pine Street', 'stateCode': 'NY', 'countryCode': 'US', 'line3': '', 'city': 'New York', 'provinceTerritoryCode': '', 'postalCode': '10005'}, {'type': 'Mailing', 'line2': '', 'line1': '26 Wall Street', 'stateCode': 'NY', 'countryCode': 'US', 'line3': '', 'city': 'New York', 'provinceTerritoryCode': '', 'postalCode': '10005'}]</td>\n",
       "            <td>[{'name': 'Hours of Operation', 'standardHours': {'friday': '10:00AM - 5:00PM', 'sunday': 'Closed', 'thursday': '10:00AM - 5:00PM', 'tuesday': '10:00AM - 5:00PM', 'saturday': 'Closed', 'monday': '10:00AM - 5:00PM', 'wednesday': '10:00AM - 5:00PM'}, 'description': 'Federal Hall is Open.', 'exceptions': [{'endDate': datetime.date(2025, 1, 15), 'name': 'Martin Luther King Jr. Day', 'startDate': datetime.date(2025, 1, 15), 'exceptionHours': {'friday': None, 'sunday': None, 'thursday': None, 'tuesday': None, 'saturday': None, 'monday': '10:00AM - 5:00PM', 'wednesday': None}}, {'endDate': datetime.date(2024, 2, 19), 'name': \"Washington's Birthday\", 'startDate': datetime.date(2024, 2, 19), 'exceptionHours': {'friday': None, 'sunday': None, 'thursday': None, 'tuesday': None, 'saturday': None, 'monday': '10:00AM - 5:00PM', 'wednesday': None}}, {'endDate': datetime.date(2024, 5, 27), 'name': 'Memorial Day', 'startDate': datetime.date(2024, 5, 27), 'exceptionHours': {'friday': None, 'sunday': None, 'thursday': None, 'tuesday': None, 'saturday': None, 'monday': '10:00AM - 5:00PM', 'wednesday': None}}, {'endDate': datetime.date(2024, 6, 19), 'name': 'Juneteenth', 'startDate': datetime.date(2024, 6, 19), 'exceptionHours': {'friday': None, 'sunday': None, 'thursday': None, 'tuesday': None, 'saturday': None, 'monday': None, 'wednesday': '10:00AM - 5:00PM'}}, {'endDate': datetime.date(2024, 7, 4), 'name': 'Independence Day', 'startDate': datetime.date(2024, 7, 4), 'exceptionHours': {'friday': None, 'sunday': None, 'thursday': '10:00AM - 5:00PM', 'tuesday': None, 'saturday': None, 'monday': None, 'wednesday': None}}, {'endDate': datetime.date(2024, 9, 2), 'name': 'Labor Day', 'startDate': datetime.date(2024, 9, 2), 'exceptionHours': {'friday': None, 'sunday': None, 'thursday': None, 'tuesday': None, 'saturday': None, 'monday': '10:00AM - 5:00PM', 'wednesday': None}}, {'endDate': datetime.date(2024, 10, 7), 'name': 'Columbus Day', 'startDate': datetime.date(2024, 10, 7), 'exceptionHours': {'friday': None, 'sunday': None, 'thursday': None, 'tuesday': None, 'saturday': None, 'monday': '10:00AM - 5:00PM', 'wednesday': None}}, {'endDate': datetime.date(2024, 11, 11), 'name': 'Veterans Day', 'startDate': datetime.date(2024, 11, 11), 'exceptionHours': {'friday': None, 'sunday': None, 'thursday': None, 'tuesday': None, 'saturday': None, 'monday': '10:00AM - 5:00PM', 'wednesday': None}}, {'endDate': datetime.date(2024, 11, 28), 'name': 'Thanksgiving', 'startDate': datetime.date(2024, 11, 28), 'exceptionHours': {'friday': None, 'sunday': None, 'thursday': 'Closed', 'tuesday': None, 'saturday': None, 'monday': None, 'wednesday': None}}, {'endDate': datetime.date(2024, 12, 25), 'name': 'Christmas Day', 'startDate': datetime.date(2024, 12, 25), 'exceptionHours': {'friday': None, 'sunday': None, 'thursday': None, 'tuesday': None, 'saturday': None, 'monday': None, 'wednesday': 'Closed'}}, {'endDate': datetime.date(2025, 1, 1), 'name': \"New Year's Day\", 'startDate': datetime.date(2025, 1, 1), 'exceptionHours': {'friday': None, 'sunday': None, 'thursday': None, 'tuesday': None, 'saturday': None, 'monday': None, 'wednesday': 'Closed'}}]}]</td>\n",
       "            <td>[]</td>\n",
       "            <td>Federal Hall</td>\n",
       "            <td>Here on Wall Street, George Washington took the oath of office as our first President, and this site was home to the first Congress, Supreme Court, and Executive Branch offices. The current structure, a Customs House, later served as part of the US Sub-Treasury. Now, the building serves as a museum and memorial to our first President and the beginnings of the United States of America.</td>\n",
       "            <td><a href=http://www.nps.gov/feha/planyourvisit/directions.htm>http://www.nps.gov/feha/planyourvisit/directions.htm</a></td>\n",
       "            <td>[]</td>\n",
       "            <td>[{'name': 'Architecture and Building', 'id': '69693007-2DF2-4EDE-BB3B-A25EBA72BDF5'}, {'name': 'American Revolution', 'id': 'F3883A66-A7CB-461B-868E-1B5932224B25'}, {'name': 'Commerce', 'id': '1170EEB6-5070-4760-8E7D-FF1A98272FAD'}, {'name': 'Military', 'id': '3B0D607D-9933-425A-BFA0-21529AC4734C'}, {'name': 'Monuments and Memorials', 'id': 'BEB7E470-13B2-4E00-84B2-0402D98DAF69'}, {'name': 'Presidents', 'id': 'F669BC40-BDC4-41C0-9ACE-B2CD25373045'}, {'name': 'Wars and Conflicts', 'id': '27BF8807-54EA-4A3D-B073-AA7AA361CD7E'}]</td>\n",
       "            <td>NY</td>\n",
       "            <td>[]</td>\n",
       "            <td>{'emailAddresses': [{'emailAddress': 'feha_info@nps.gov', 'description': 'Park information'}], 'phoneNumbers': [{'extension': None, 'type': 'Voice', 'description': '', 'phoneNumber': '2128256990'}, {'extension': None, 'type': 'Fax', 'description': '', 'phoneNumber': '2126682899'}]}</td>\n",
       "            <td>[{'name': 'Arts and Culture', 'id': '09DF0950-D319-4557-A57E-04CD2F63FF42'}, {'name': 'Guided Tours', 'id': 'B33DC9B6-0B7D-4322-BAD7-A13A34C584A3'}, {'name': 'Self-Guided Tours - Walking', 'id': 'A0631906-9672-4583-91DE-113B93DB6B6E'}, {'name': 'Junior Ranger Program', 'id': 'DF4A35E0-7983-4A3E-BC47-F37B872B0F25'}, {'name': 'Museum Exhibits', 'id': 'C8F98B28-3C10-41AE-AA99-092B3B398C43'}, {'name': 'Shopping', 'id': '24380E3F-AD9D-4E38-BF13-C8EEB21893E7'}]</td>\n",
       "            <td><a href=https://www.nps.gov/feha/index.htm>https://www.nps.gov/feha/index.htm</a></td>\n",
       "            <td>-74.01025636</td>\n",
       "            <td>2337D255-2D32-4997-957A-D461EEA03AF8</td>\n",
       "            <td>[{'url': 'https://www.nps.gov/common/uploads/structured_data/3C855D19-1DD8-B71B-0B2AF1FAF9721319.jpg', 'caption': 'Thousands of visitors each year visit Federal Hall National Memorial', 'altText': '“Large crowd inside the rotunda of Federal Hall National Memorial”', 'title': 'Federal Hall Interior', 'credit': 'NPS'}, {'url': 'https://www.nps.gov/common/uploads/structured_data/793130D4-ECEB-38CA-85B17CD76A572A8E.png', 'caption': 'Federal Hall Visitors watch a re-enactment', 'altText': 'Visitors watch a George Washington re-enactor perform.', 'title': 'Federal Hall Rotunda', 'credit': 'NPS Photo'}]</td>\n",
       "            <td>The main entrance of Federal Hall is located at 15 Pine Street, near the corner of Nassau and Pine Street in Manhattan's Financial District. The rear entrance, which is wheelchair accessible, is located at 15 Pine Street, near the intersection of Pine Street and Nassau Street. It is highly recommended that all visitors use mass transit when traveling to Federal Hall.</td>\n",
       "            <td>Federal Hall National Memorial</td>\n",
       "            <td>feha</td>\n",
       "            <td>lat:40.70731192, long:-74.01025636</td>\n",
       "            <td>40.70731192</td>\n",
       "        </tr>\n",
       "    </tbody>\n",
       "</table>"
      ],
      "text/plain": [
       "+----------------+-------------------+-------------------------------------------------------------------------------------------------------------------------------------------------------------------------------------------------------------------------------------------------+---------------------------------------------------------------------------------------------------------------------------------------------------------------------------------------------------------------------------------------------------------------------------------------------------------------------------------------------------------------------------------------+------------------------------------------------------------------------------------------------------------------------------------------------------------------------------------------------------------------------------------------------------------------------------------------------------------------------------------------------------------------------------------------------------------------------------------------------------------------------------------------------------------------------------------------------------------------------------------------------------------------------------------------------------------------------------------------------------------------------------------------------------------------------------------------------------------------------------------------------------------------------------------------------------------------------------------------------------------------------------------------------------------------------------------------------------------------------------------------------------------------------------------------------------------------------------------------------------------------------------------------------------------------------------------------------------------------------------------------------------------------------------------------------------------------------------------------------------------------------------------------------------------------------------------------------------------------------------------------------------------------------------------------------------------------------------------------------------------------------------------------------------------------------------------------------------------------------------------------------------------------------------------------------------------------------------------------------------------------------------------------------------------------------------------------------------------------------------------------------------------------------------------------------------------------------------------------------------------------------------------------------------------------------------------------------------------------------------------------------------------------------------------------------------------------------------------------------------------------------------------------------------------------------------------------------------------------------------------------------------------------------------------------------------------------------------------------------------------------------------------------------------------------------------------------------------------------------------------------------------------------------------------------------------------------------------------------------------------------------------------------------------------------------------------------------------------------------------------------------------------------------------------------------------------------------------------------------------------------------------------------------------------------------------------------+----------------+--------------+-----------------------------------------------------------------------------------------------------------------------------------------------------------------------------------------------------------------------------------------------------------------------------------------------------------------------------------------------------------------------------------------------------+-----------------------------------------------------------------------------------------------------------------------+------+-----------------------------------------------------------------------------------------------------------------------------------------------------------------------------------------------------------------------------------------------------------------------------------------------------------------------------------------------------------------------------------------------------------------------------------------------------------------------------------------------------------------------------------------------------+--------+--------------+--------------------------------------------------------------------------------------------------------------------------------------------------------------------------------------------------------------------------------------------------------------------------------------------+-----------------------------------------------------------------------------------------------------------------------------------------------------------------------------------------------------------------------------------------------------------------------------------------------------------------------------------------------------------------------------------------------------------------------------------------------------------------------------+-----------------------------------------------------------------------------------+--------------+--------------------------------------+-----------------------------------------------------------------------------------------------------------------------------------------------------------------------------------------------------------------------------------------------------------------------------------------------------------------------------------------------------------------------------------------------------------------------------------------------------------------------------------------------------------------------------------------------------------------------------------------------------------------------------+-----------------------------------------------------------------------------------------------------------------------------------------------------------------------------------------------------------------------------------------------------------------------------------------------------------------------------------------------------------------------------------+--------------------------------+----------+------------------------------------+-------------+\n",
       "| relevanceScore |    designation    |                                                                                                                   weatherInfo                                                                                                                   |                                                                                                                                                                                       addresses                                                                                                                                                                                       |                                                                                                                                                                                                                                                                                                                                                                                                                                                                                                                                                                                                                                                                                                                                                                                                                                                                                                                                                                                                                                                                                                                                                                                                                                                                                                                                                                                                                                                                                                                                                                                                                                      operatingHours                                                                                                                                                                                                                                                                                                                                                                                                                                                                                                                                                                                                                                                                                                                                                                                                                                                                                                                                                                                                                                                                                                                                                                                                                                                                                                                                                                                                                                                                                                                                                                                                                                      | entrancePasses |     name     |                                                                                                                                                                                             description                                                                                                                                                                                             |                                                     directionsUrl                                                     | fees |                                                                                                                                                                                                                                                                        topics                                                                                                                                                                                                                                                                       | states | entranceFees |                                                                                                                                          contacts                                                                                                                                          |                                                                                                                                                                                                                                  activities                                                                                                                                                                                                                                 |                                        url                                        |  longitude   |                  id                  |                                                                                                                                                                                                                                                                                                            images                                                                                                                                                                                                                                                                                                           |                                                                                                                                                                                   directionsInfo                                                                                                                                                                                  |            fullName            | parkCode |              latLong               |   latitude  |\n",
       "+----------------+-------------------+-------------------------------------------------------------------------------------------------------------------------------------------------------------------------------------------------------------------------------------------------+---------------------------------------------------------------------------------------------------------------------------------------------------------------------------------------------------------------------------------------------------------------------------------------------------------------------------------------------------------------------------------------+------------------------------------------------------------------------------------------------------------------------------------------------------------------------------------------------------------------------------------------------------------------------------------------------------------------------------------------------------------------------------------------------------------------------------------------------------------------------------------------------------------------------------------------------------------------------------------------------------------------------------------------------------------------------------------------------------------------------------------------------------------------------------------------------------------------------------------------------------------------------------------------------------------------------------------------------------------------------------------------------------------------------------------------------------------------------------------------------------------------------------------------------------------------------------------------------------------------------------------------------------------------------------------------------------------------------------------------------------------------------------------------------------------------------------------------------------------------------------------------------------------------------------------------------------------------------------------------------------------------------------------------------------------------------------------------------------------------------------------------------------------------------------------------------------------------------------------------------------------------------------------------------------------------------------------------------------------------------------------------------------------------------------------------------------------------------------------------------------------------------------------------------------------------------------------------------------------------------------------------------------------------------------------------------------------------------------------------------------------------------------------------------------------------------------------------------------------------------------------------------------------------------------------------------------------------------------------------------------------------------------------------------------------------------------------------------------------------------------------------------------------------------------------------------------------------------------------------------------------------------------------------------------------------------------------------------------------------------------------------------------------------------------------------------------------------------------------------------------------------------------------------------------------------------------------------------------------------------------------------------------------------------------------------+----------------+--------------+-----------------------------------------------------------------------------------------------------------------------------------------------------------------------------------------------------------------------------------------------------------------------------------------------------------------------------------------------------------------------------------------------------+-----------------------------------------------------------------------------------------------------------------------+------+-----------------------------------------------------------------------------------------------------------------------------------------------------------------------------------------------------------------------------------------------------------------------------------------------------------------------------------------------------------------------------------------------------------------------------------------------------------------------------------------------------------------------------------------------------+--------+--------------+--------------------------------------------------------------------------------------------------------------------------------------------------------------------------------------------------------------------------------------------------------------------------------------------+-----------------------------------------------------------------------------------------------------------------------------------------------------------------------------------------------------------------------------------------------------------------------------------------------------------------------------------------------------------------------------------------------------------------------------------------------------------------------------+-----------------------------------------------------------------------------------+--------------+--------------------------------------+-----------------------------------------------------------------------------------------------------------------------------------------------------------------------------------------------------------------------------------------------------------------------------------------------------------------------------------------------------------------------------------------------------------------------------------------------------------------------------------------------------------------------------------------------------------------------------------------------------------------------------+-----------------------------------------------------------------------------------------------------------------------------------------------------------------------------------------------------------------------------------------------------------------------------------------------------------------------------------------------------------------------------------+--------------------------------+----------+------------------------------------+-------------+\n",
       "|       1        | National Memorial | <a href=http://forecast.weather.gov/MapClick.php?CityName=New+York&state=NY&site=OKX&lat=40.7198&lon=-73.993#.Vqj8OvkrJlZ>http://forecast.weather.gov/MapClick.php?CityName=New+York&state=NY&site=OKX&lat=40.7198&lon=-73.993#.Vqj8OvkrJlZ</a> | [{'type': 'Physical', 'line2': '', 'line1': '15 Pine Street', 'stateCode': 'NY', 'countryCode': 'US', 'line3': '', 'city': 'New York', 'provinceTerritoryCode': '', 'postalCode': '10005'}, {'type': 'Mailing', 'line2': '', 'line1': '26 Wall Street', 'stateCode': 'NY', 'countryCode': 'US', 'line3': '', 'city': 'New York', 'provinceTerritoryCode': '', 'postalCode': '10005'}] | [{'name': 'Hours of Operation', 'standardHours': {'friday': '10:00AM - 5:00PM', 'sunday': 'Closed', 'thursday': '10:00AM - 5:00PM', 'tuesday': '10:00AM - 5:00PM', 'saturday': 'Closed', 'monday': '10:00AM - 5:00PM', 'wednesday': '10:00AM - 5:00PM'}, 'description': 'Federal Hall is Open.', 'exceptions': [{'endDate': datetime.date(2025, 1, 15), 'name': 'Martin Luther King Jr. Day', 'startDate': datetime.date(2025, 1, 15), 'exceptionHours': {'friday': None, 'sunday': None, 'thursday': None, 'tuesday': None, 'saturday': None, 'monday': '10:00AM - 5:00PM', 'wednesday': None}}, {'endDate': datetime.date(2024, 2, 19), 'name': \"Washington's Birthday\", 'startDate': datetime.date(2024, 2, 19), 'exceptionHours': {'friday': None, 'sunday': None, 'thursday': None, 'tuesday': None, 'saturday': None, 'monday': '10:00AM - 5:00PM', 'wednesday': None}}, {'endDate': datetime.date(2024, 5, 27), 'name': 'Memorial Day', 'startDate': datetime.date(2024, 5, 27), 'exceptionHours': {'friday': None, 'sunday': None, 'thursday': None, 'tuesday': None, 'saturday': None, 'monday': '10:00AM - 5:00PM', 'wednesday': None}}, {'endDate': datetime.date(2024, 6, 19), 'name': 'Juneteenth', 'startDate': datetime.date(2024, 6, 19), 'exceptionHours': {'friday': None, 'sunday': None, 'thursday': None, 'tuesday': None, 'saturday': None, 'monday': None, 'wednesday': '10:00AM - 5:00PM'}}, {'endDate': datetime.date(2024, 7, 4), 'name': 'Independence Day', 'startDate': datetime.date(2024, 7, 4), 'exceptionHours': {'friday': None, 'sunday': None, 'thursday': '10:00AM - 5:00PM', 'tuesday': None, 'saturday': None, 'monday': None, 'wednesday': None}}, {'endDate': datetime.date(2024, 9, 2), 'name': 'Labor Day', 'startDate': datetime.date(2024, 9, 2), 'exceptionHours': {'friday': None, 'sunday': None, 'thursday': None, 'tuesday': None, 'saturday': None, 'monday': '10:00AM - 5:00PM', 'wednesday': None}}, {'endDate': datetime.date(2024, 10, 7), 'name': 'Columbus Day', 'startDate': datetime.date(2024, 10, 7), 'exceptionHours': {'friday': None, 'sunday': None, 'thursday': None, 'tuesday': None, 'saturday': None, 'monday': '10:00AM - 5:00PM', 'wednesday': None}}, {'endDate': datetime.date(2024, 11, 11), 'name': 'Veterans Day', 'startDate': datetime.date(2024, 11, 11), 'exceptionHours': {'friday': None, 'sunday': None, 'thursday': None, 'tuesday': None, 'saturday': None, 'monday': '10:00AM - 5:00PM', 'wednesday': None}}, {'endDate': datetime.date(2024, 11, 28), 'name': 'Thanksgiving', 'startDate': datetime.date(2024, 11, 28), 'exceptionHours': {'friday': None, 'sunday': None, 'thursday': 'Closed', 'tuesday': None, 'saturday': None, 'monday': None, 'wednesday': None}}, {'endDate': datetime.date(2024, 12, 25), 'name': 'Christmas Day', 'startDate': datetime.date(2024, 12, 25), 'exceptionHours': {'friday': None, 'sunday': None, 'thursday': None, 'tuesday': None, 'saturday': None, 'monday': None, 'wednesday': 'Closed'}}, {'endDate': datetime.date(2025, 1, 1), 'name': \"New Year's Day\", 'startDate': datetime.date(2025, 1, 1), 'exceptionHours': {'friday': None, 'sunday': None, 'thursday': None, 'tuesday': None, 'saturday': None, 'monday': None, 'wednesday': 'Closed'}}]}] |       []       | Federal Hall | Here on Wall Street, George Washington took the oath of office as our first President, and this site was home to the first Congress, Supreme Court, and Executive Branch offices. The current structure, a Customs House, later served as part of the US Sub-Treasury. Now, the building serves as a museum and memorial to our first President and the beginnings of the United States of America. | <a href=http://www.nps.gov/feha/planyourvisit/directions.htm>http://www.nps.gov/feha/planyourvisit/directions.htm</a> |  []  | [{'name': 'Architecture and Building', 'id': '69693007-2DF2-4EDE-BB3B-A25EBA72BDF5'}, {'name': 'American Revolution', 'id': 'F3883A66-A7CB-461B-868E-1B5932224B25'}, {'name': 'Commerce', 'id': '1170EEB6-5070-4760-8E7D-FF1A98272FAD'}, {'name': 'Military', 'id': '3B0D607D-9933-425A-BFA0-21529AC4734C'}, {'name': 'Monuments and Memorials', 'id': 'BEB7E470-13B2-4E00-84B2-0402D98DAF69'}, {'name': 'Presidents', 'id': 'F669BC40-BDC4-41C0-9ACE-B2CD25373045'}, {'name': 'Wars and Conflicts', 'id': '27BF8807-54EA-4A3D-B073-AA7AA361CD7E'}] |   NY   |      []      | {'emailAddresses': [{'emailAddress': 'feha_info@nps.gov', 'description': 'Park information'}], 'phoneNumbers': [{'extension': None, 'type': 'Voice', 'description': '', 'phoneNumber': '2128256990'}, {'extension': None, 'type': 'Fax', 'description': '', 'phoneNumber': '2126682899'}]} | [{'name': 'Arts and Culture', 'id': '09DF0950-D319-4557-A57E-04CD2F63FF42'}, {'name': 'Guided Tours', 'id': 'B33DC9B6-0B7D-4322-BAD7-A13A34C584A3'}, {'name': 'Self-Guided Tours - Walking', 'id': 'A0631906-9672-4583-91DE-113B93DB6B6E'}, {'name': 'Junior Ranger Program', 'id': 'DF4A35E0-7983-4A3E-BC47-F37B872B0F25'}, {'name': 'Museum Exhibits', 'id': 'C8F98B28-3C10-41AE-AA99-092B3B398C43'}, {'name': 'Shopping', 'id': '24380E3F-AD9D-4E38-BF13-C8EEB21893E7'}] | <a href=https://www.nps.gov/feha/index.htm>https://www.nps.gov/feha/index.htm</a> | -74.01025636 | 2337D255-2D32-4997-957A-D461EEA03AF8 | [{'url': 'https://www.nps.gov/common/uploads/structured_data/3C855D19-1DD8-B71B-0B2AF1FAF9721319.jpg', 'caption': 'Thousands of visitors each year visit Federal Hall National Memorial', 'altText': '“Large crowd inside the rotunda of Federal Hall National Memorial”', 'title': 'Federal Hall Interior', 'credit': 'NPS'}, {'url': 'https://www.nps.gov/common/uploads/structured_data/793130D4-ECEB-38CA-85B17CD76A572A8E.png', 'caption': 'Federal Hall Visitors watch a re-enactment', 'altText': 'Visitors watch a George Washington re-enactor perform.', 'title': 'Federal Hall Rotunda', 'credit': 'NPS Photo'}] | The main entrance of Federal Hall is located at 15 Pine Street, near the corner of Nassau and Pine Street in Manhattan's Financial District. The rear entrance, which is wheelchair accessible, is located at 15 Pine Street, near the intersection of Pine Street and Nassau Street. It is highly recommended that all visitors use mass transit when traveling to Federal Hall. | Federal Hall National Memorial |   feha   | lat:40.70731192, long:-74.01025636 | 40.70731192 |\n",
       "+----------------+-------------------+-------------------------------------------------------------------------------------------------------------------------------------------------------------------------------------------------------------------------------------------------+---------------------------------------------------------------------------------------------------------------------------------------------------------------------------------------------------------------------------------------------------------------------------------------------------------------------------------------------------------------------------------------+------------------------------------------------------------------------------------------------------------------------------------------------------------------------------------------------------------------------------------------------------------------------------------------------------------------------------------------------------------------------------------------------------------------------------------------------------------------------------------------------------------------------------------------------------------------------------------------------------------------------------------------------------------------------------------------------------------------------------------------------------------------------------------------------------------------------------------------------------------------------------------------------------------------------------------------------------------------------------------------------------------------------------------------------------------------------------------------------------------------------------------------------------------------------------------------------------------------------------------------------------------------------------------------------------------------------------------------------------------------------------------------------------------------------------------------------------------------------------------------------------------------------------------------------------------------------------------------------------------------------------------------------------------------------------------------------------------------------------------------------------------------------------------------------------------------------------------------------------------------------------------------------------------------------------------------------------------------------------------------------------------------------------------------------------------------------------------------------------------------------------------------------------------------------------------------------------------------------------------------------------------------------------------------------------------------------------------------------------------------------------------------------------------------------------------------------------------------------------------------------------------------------------------------------------------------------------------------------------------------------------------------------------------------------------------------------------------------------------------------------------------------------------------------------------------------------------------------------------------------------------------------------------------------------------------------------------------------------------------------------------------------------------------------------------------------------------------------------------------------------------------------------------------------------------------------------------------------------------------------------------------------------------------------+----------------+--------------+-----------------------------------------------------------------------------------------------------------------------------------------------------------------------------------------------------------------------------------------------------------------------------------------------------------------------------------------------------------------------------------------------------+-----------------------------------------------------------------------------------------------------------------------+------+-----------------------------------------------------------------------------------------------------------------------------------------------------------------------------------------------------------------------------------------------------------------------------------------------------------------------------------------------------------------------------------------------------------------------------------------------------------------------------------------------------------------------------------------------------+--------+--------------+--------------------------------------------------------------------------------------------------------------------------------------------------------------------------------------------------------------------------------------------------------------------------------------------+-----------------------------------------------------------------------------------------------------------------------------------------------------------------------------------------------------------------------------------------------------------------------------------------------------------------------------------------------------------------------------------------------------------------------------------------------------------------------------+-----------------------------------------------------------------------------------+--------------+--------------------------------------+-----------------------------------------------------------------------------------------------------------------------------------------------------------------------------------------------------------------------------------------------------------------------------------------------------------------------------------------------------------------------------------------------------------------------------------------------------------------------------------------------------------------------------------------------------------------------------------------------------------------------------+-----------------------------------------------------------------------------------------------------------------------------------------------------------------------------------------------------------------------------------------------------------------------------------------------------------------------------------------------------------------------------------+--------------------------------+----------+------------------------------------+-------------+"
      ]
     },
     "execution_count": 2,
     "metadata": {},
     "output_type": "execute_result"
    }
   ],
   "source": [
    "%%sql \n",
    "SELECT\n",
    "    *\n",
    "FROM nps_public_data.parks\n",
    "LIMIT 1"
   ]
  },
  {
   "cell_type": "markdown",
   "metadata": {},
   "source": [
    "Because this is a _transformation_ focused course, we'll assume you know the basics of SQL, but here are a few quick refreshers if you're rusty.\n",
    "\n",
    "Some SQL basics and refreshers:\n",
    "- Every query is made up of a `SELECT` and `FROM` \n",
    "- Between those two, we list the columns, separated by a comma. \n",
    "- We can _alias_ columns or our data source using _as_ (technically not required, but a good idea)"
   ]
  },
  {
   "cell_type": "code",
   "execution_count": null,
   "metadata": {},
   "outputs": [],
   "source": [
    "%%sql \n",
    "SELECT\n",
    "    fullName as full_name,\n",
    "    weatherInfo as weather_info,\n",
    "    operatingHours as operating_hours\n",
    "FROM nps_public_data.parks as not_parks\n",
    "LIMIT 3"
   ]
  },
  {
   "cell_type": "markdown",
   "metadata": {},
   "source": [
    "If there's anything you don't know, feel free to poke around online or play around with the parks data loaded into this notebook.\n",
    "\n",
    "Otherwise, I highly encourage learning by observing and playing— feel free to open up a new cell, drop in `%%sql` and query some sample data! You can find out more about the database by running `SHOW ALL TABLES`"
   ]
  },
  {
   "cell_type": "code",
   "execution_count": null,
   "metadata": {},
   "outputs": [],
   "source": [
    "%%sql\n",
    "SHOW ALL TABLES"
   ]
  },
  {
   "cell_type": "markdown",
   "metadata": {},
   "source": [
    "Otherwise, let's talk a bit about structure.\n",
    "\n",
    "You'll notice my queries are formatted very precisely. Why do we do this? Well, simple— it's easy to read and it makes code repeatable, editable, and understandable. As we go through the course, pay attention to how queries and CTEs are structured.\n",
    "\n",
    "I'll be sure to call these out as we go along. There are also tools out there, called linters, that can automagically format the code in your SQL files & repos. [SQLfluff](https://www.sqlfluff.com/) is a good place to start! "
   ]
  }
 ],
 "metadata": {
  "kernelspec": {
   "display_name": "Python 3",
   "language": "python",
   "name": "python3"
  },
  "language_info": {
   "codemirror_mode": {
    "name": "ipython",
    "version": 3
   },
   "file_extension": ".py",
   "mimetype": "text/x-python",
   "name": "python",
   "nbconvert_exporter": "python",
   "pygments_lexer": "ipython3",
   "version": "3.12.1"
  }
 },
 "nbformat": 4,
 "nbformat_minor": 2
}
